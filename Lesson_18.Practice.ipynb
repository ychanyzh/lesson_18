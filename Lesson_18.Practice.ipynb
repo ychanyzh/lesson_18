{
 "cells": [
  {
   "cell_type": "markdown",
   "metadata": {},
   "source": [
    "1. Add models for student, subject and student_subject in SQLAlchemy.\n",
    "\n",
    "```sql\n",
    "CREATE TABLE student (\n",
    "    id serial PRIMARY KEY,\n",
    "    name VARCHAR(50) NOT NULL,\n",
    "    age INT NOT NULL\n",
    ");\n",
    "```\n",
    "\n",
    "```sql\n",
    "CREATE TABLE subject (\n",
    "    id serial PRIMARY KEY,\n",
    "    name VARCHAR(50) NOT NULL\n",
    ");\n",
    "```\n",
    "\n",
    "```sql\n",
    "CREATE TABLE student_subject (\n",
    "    id serial PRIMARY KEY,\n",
    "    student_id INT NOT NULL,\n",
    "    subject_id INT NOT NULL,\n",
    "\n",
    "    FOREIGN KEY (student_id)\n",
    "        REFERENCES student (id),\n",
    "    FOREIGN KEY (subject_id)\n",
    "        REFERENCES subject (id)\n",
    ");\n",
    "```"
   ]
  },
  {
   "cell_type": "code",
   "execution_count": 23,
   "metadata": {},
   "outputs": [],
   "source": [
    "from sqlalchemy import create_engine, Column, Integer, String, ForeignKey\n",
    "from sqlalchemy.orm import relationship\n",
    "from sqlalchemy.ext.declarative import declarative_base\n",
    "from sqlalchemy.orm import sessionmaker\n",
    "\n",
    "Base = declarative_base()\n",
    "\n",
    "class Student(Base):\n",
    "    __tablename__ = 'student'\n",
    "\n",
    "    id = Column(Integer, primary_key=True)\n",
    "    name = Column(String(50), nullable=False)\n",
    "    age = Column(Integer, nullable=False)\n",
    "    \n",
    "    subjects = relationship('Subject', secondary='student_subject', back_populates='students')\n",
    "\n",
    "class Subject(Base):\n",
    "    __tablename__ = 'subject'\n",
    "\n",
    "    id = Column(Integer, primary_key=True)\n",
    "    name = Column(String(50), nullable=False)\n",
    "\n",
    "    students = relationship('Student', secondary='student_subject', back_populates='subjects')\n",
    "\n",
    "class StudentSubject(Base):\n",
    "    __tablename__ = 'student_subject'\n",
    "\n",
    "    id = Column(Integer, primary_key=True)\n",
    "    student_id = Column(Integer, ForeignKey('student.id'), nullable=False)\n",
    "    subject_id = Column(Integer, ForeignKey('subject.id'), nullable=False)\n",
    "\n",
    "engine = create_engine('sqlite:///database.db')\n",
    "Base.metadata.create_all(engine)\n",
    "\n",
    "Session = sessionmaker(bind=engine)\n",
    "session = Session()\n"
   ]
  },
  {
   "cell_type": "markdown",
   "metadata": {},
   "source": [
    "2. Find all students` name that visited 'English' classes."
   ]
  },
  {
   "cell_type": "code",
   "execution_count": 25,
   "metadata": {},
   "outputs": [],
   "source": [
    "# Create the database engine and session\n",
    "engine = create_engine(\"sqlite:///database.db\")\n",
    "Session = sessionmaker(bind=engine)\n",
    "session = Session()\n",
    "\n",
    "# Query to find students' names who visited 'English' classes\n",
    "english_students = session.query(Student.name).join(StudentSubject).join(Subject).filter(Subject.name == 'English').all()\n",
    "\n",
    "# Print the results\n",
    "for student_name in english_students:\n",
    "    print(student_name[0])\n"
   ]
  },
  {
   "cell_type": "markdown",
   "metadata": {},
   "source": [
    "3. (Optional): Rewrite queries from the previous lesson using SQLAlchemy."
   ]
  },
  {
   "cell_type": "markdown",
   "metadata": {},
   "source": [
    "INSERT Queries"
   ]
  },
  {
   "cell_type": "markdown",
   "metadata": {},
   "source": [
    "1. Insert one row:"
   ]
  },
  {
   "cell_type": "code",
   "execution_count": 26,
   "metadata": {},
   "outputs": [],
   "source": [
    "new_student = Student(name='Bae', age=18)\n",
    "session.add(new_student)\n",
    "session.commit()"
   ]
  },
  {
   "cell_type": "markdown",
   "metadata": {},
   "source": [
    "2. Insert multiple rows:"
   ]
  },
  {
   "cell_type": "code",
   "execution_count": 27,
   "metadata": {},
   "outputs": [],
   "source": [
    "students_to_insert = [\n",
    "    Student(name='Bae', age=18),\n",
    "    Student(name='Eddy', age=21),\n",
    "    Student(name='Lily', age=22),\n",
    "    Student(name='Jenny', age=19)\n",
    "]\n",
    "\n",
    "session.add_all(students_to_insert)\n",
    "session.commit()"
   ]
  },
  {
   "cell_type": "markdown",
   "metadata": {},
   "source": [
    "3. With column names:"
   ]
  },
  {
   "cell_type": "code",
   "execution_count": null,
   "metadata": {},
   "outputs": [],
   "source": [
    "new_students = [\n",
    "    Student(name='Bae', age=18),\n",
    "    Student(name='Eddy', age=21),\n",
    "    Student(name='Lily', age=22),\n",
    "    Student(name='Jenny', age=19)\n",
    "]\n",
    "\n",
    "session.bulk_save_objects(new_students)\n",
    "session.commit()"
   ]
  },
  {
   "cell_type": "markdown",
   "metadata": {},
   "source": [
    "SELECT Queries:"
   ]
  },
  {
   "cell_type": "markdown",
   "metadata": {},
   "source": [
    "1. Select all rows:"
   ]
  },
  {
   "cell_type": "code",
   "execution_count": 31,
   "metadata": {},
   "outputs": [
    {
     "name": "stdout",
     "output_type": "stream",
     "text": [
      "<__main__.Student object at 0x7f93ce6ec2b0>\n",
      "<__main__.Student object at 0x7f93ce6ef7c0>\n",
      "<__main__.Student object at 0x7f93ce8456c0>\n",
      "<__main__.Student object at 0x7f93ce845240>\n",
      "<__main__.Student object at 0x7f93ce8476a0>\n"
     ]
    }
   ],
   "source": [
    "all_students = session.query(Student).all()"
   ]
  },
  {
   "cell_type": "markdown",
   "metadata": {},
   "source": [
    "2. Select specific columns:"
   ]
  },
  {
   "cell_type": "code",
   "execution_count": 29,
   "metadata": {},
   "outputs": [],
   "source": [
    "student_names = session.query(Student.name).all()"
   ]
  },
  {
   "cell_type": "markdown",
   "metadata": {},
   "source": [
    "WHERE Clause:"
   ]
  },
  {
   "cell_type": "markdown",
   "metadata": {},
   "source": [
    "1. Select with WHERE:"
   ]
  },
  {
   "cell_type": "code",
   "execution_count": 32,
   "metadata": {},
   "outputs": [],
   "source": [
    "young_students = session.query(Student).filter(Student.age < 20).all()"
   ]
  },
  {
   "cell_type": "markdown",
   "metadata": {},
   "source": [
    "2. AND and OR conditions:"
   ]
  },
  {
   "cell_type": "code",
   "execution_count": null,
   "metadata": {},
   "outputs": [],
   "source": [
    "students_filtered = session.query(Student).filter(Student.age < 20, Student.age > 10).all()\n",
    "students_age_name = session.query(Student).filter((Student.age < 20) | (Student.name == 'John')).all()"
   ]
  },
  {
   "cell_type": "markdown",
   "metadata": {},
   "source": [
    "ORDER BY Clause:"
   ]
  },
  {
   "cell_type": "markdown",
   "metadata": {},
   "source": [
    "1. Order by age:"
   ]
  },
  {
   "cell_type": "code",
   "execution_count": 34,
   "metadata": {},
   "outputs": [],
   "source": [
    "students_ordered_by_age = session.query(Student).order_by(Student.age).all()"
   ]
  },
  {
   "cell_type": "markdown",
   "metadata": {},
   "source": [
    "2. Order by age in descending order with filtering:"
   ]
  },
  {
   "cell_type": "code",
   "execution_count": 35,
   "metadata": {},
   "outputs": [],
   "source": [
    "students_filtered_ordered = session.query(Student).filter(Student.age == 20).order_by(Student.age.desc()).all()"
   ]
  },
  {
   "cell_type": "markdown",
   "metadata": {},
   "source": [
    "INNER JOIN:"
   ]
  },
  {
   "cell_type": "markdown",
   "metadata": {},
   "source": [
    "1. Simple join between two tables:"
   ]
  },
  {
   "cell_type": "code",
   "execution_count": 37,
   "metadata": {},
   "outputs": [],
   "source": [
    "from sqlalchemy.orm import aliased\n",
    "\n",
    "StudentSubject = aliased(StudentSubject)\n",
    "\n",
    "result = session.query(Student, StudentSubject).join(StudentSubject, Student.id == StudentSubject.student_id).all()"
   ]
  },
  {
   "cell_type": "markdown",
   "metadata": {},
   "source": [
    "2. Select columns during the join:"
   ]
  },
  {
   "cell_type": "code",
   "execution_count": 38,
   "metadata": {},
   "outputs": [],
   "source": [
    "result = session.query(Student.name, StudentSubject.subject_id).join(StudentSubject, Student.id == StudentSubject.student_id).all()"
   ]
  },
  {
   "cell_type": "markdown",
   "metadata": {},
   "source": [
    "3. Join with three tables:"
   ]
  },
  {
   "cell_type": "code",
   "execution_count": 39,
   "metadata": {},
   "outputs": [],
   "source": [
    "Subject = aliased(Subject)\n",
    "result = session.query(Student, StudentSubject, Subject).join(StudentSubject, Student.id == StudentSubject.student_id).join(Subject, Subject.id == StudentSubject.subject_id).all()"
   ]
  },
  {
   "cell_type": "markdown",
   "metadata": {},
   "source": [
    "4. Subquery join:"
   ]
  },
  {
   "cell_type": "code",
   "execution_count": 40,
   "metadata": {},
   "outputs": [],
   "source": [
    "subquery = session.query(Student.id, Subject.id).join(Subject, Subject.id == Student.id).subquery()\n",
    "result = session.query(subquery).all()"
   ]
  },
  {
   "cell_type": "markdown",
   "metadata": {},
   "source": [
    "FULL JOIN:"
   ]
  },
  {
   "cell_type": "code",
   "execution_count": null,
   "metadata": {},
   "outputs": [],
   "source": [
    "from sqlalchemy.sql import text\n",
    "\n",
    "query = text(\"SELECT * FROM student FULL JOIN student_subject ON student.id = student_subject.student_id;\")\n",
    "result = session.execute(query).fetchall()\n"
   ]
  },
  {
   "cell_type": "markdown",
   "metadata": {},
   "source": [
    "LEFT/RIGHT JOIN:"
   ]
  },
  {
   "cell_type": "markdown",
   "metadata": {},
   "source": [
    "1. Left join:"
   ]
  },
  {
   "cell_type": "code",
   "execution_count": 41,
   "metadata": {},
   "outputs": [],
   "source": [
    "result = session.query(Student, StudentSubject).outerjoin(StudentSubject, Student.id == StudentSubject.student_id).all()"
   ]
  },
  {
   "cell_type": "markdown",
   "metadata": {},
   "source": [
    "2. Right join:"
   ]
  },
  {
   "cell_type": "code",
   "execution_count": 42,
   "metadata": {},
   "outputs": [],
   "source": [
    "result = session.query(Student, StudentSubject).outerjoin(StudentSubject, Student.id == StudentSubject.student_id, isouter=True).all()"
   ]
  },
  {
   "cell_type": "markdown",
   "metadata": {},
   "source": [
    "AGGREGATE FUNCTIONS:"
   ]
  },
  {
   "cell_type": "markdown",
   "metadata": {},
   "source": [
    "1. Count:"
   ]
  },
  {
   "cell_type": "code",
   "execution_count": 43,
   "metadata": {},
   "outputs": [],
   "source": [
    "from sqlalchemy import func\n",
    "\n",
    "count = session.query(func.count()).select_from(Student).scalar()"
   ]
  },
  {
   "cell_type": "markdown",
   "metadata": {},
   "source": [
    "2. AVG:"
   ]
  },
  {
   "cell_type": "code",
   "execution_count": 44,
   "metadata": {},
   "outputs": [],
   "source": [
    "average_age = session.query(func.avg(Student.age)).scalar()"
   ]
  },
  {
   "cell_type": "markdown",
   "metadata": {},
   "source": [
    "3. MAX:"
   ]
  },
  {
   "cell_type": "code",
   "execution_count": 45,
   "metadata": {},
   "outputs": [],
   "source": [
    "max_age = session.query(func.max(Student.age)).scalar()"
   ]
  },
  {
   "cell_type": "markdown",
   "metadata": {},
   "source": [
    "4. MIN:"
   ]
  },
  {
   "cell_type": "code",
   "execution_count": null,
   "metadata": {},
   "outputs": [],
   "source": [
    "min_age = session.query(func.min(Student.age)).scalar()"
   ]
  },
  {
   "cell_type": "markdown",
   "metadata": {},
   "source": [
    "5. SUM:"
   ]
  },
  {
   "cell_type": "code",
   "execution_count": 47,
   "metadata": {},
   "outputs": [],
   "source": [
    "total_age = session.query(func.sum(Student.age)).scalar()"
   ]
  },
  {
   "cell_type": "markdown",
   "metadata": {},
   "source": [
    "UPDATE:"
   ]
  },
  {
   "cell_type": "markdown",
   "metadata": {},
   "source": [
    "Update one column in a row:"
   ]
  },
  {
   "cell_type": "code",
   "execution_count": 48,
   "metadata": {},
   "outputs": [],
   "source": [
    "student_to_update = session.query(Student).filter_by(name='Bae').first()\n",
    "if student_to_update:\n",
    "    student_to_update.age = 20\n",
    "    session.commit()"
   ]
  },
  {
   "cell_type": "markdown",
   "metadata": {},
   "source": [
    "DELETE:"
   ]
  },
  {
   "cell_type": "markdown",
   "metadata": {},
   "source": [
    "1. Delete one or multiple rows based on a condition:"
   ]
  },
  {
   "cell_type": "code",
   "execution_count": 49,
   "metadata": {},
   "outputs": [],
   "source": [
    "students_to_delete = session.query(Student).filter_by(name='Bae').all()\n",
    "for student in students_to_delete:\n",
    "    session.delete(student)\n",
    "session.commit()"
   ]
  },
  {
   "cell_type": "markdown",
   "metadata": {},
   "source": [
    "2. Delete all rows from the table:"
   ]
  },
  {
   "cell_type": "code",
   "execution_count": null,
   "metadata": {},
   "outputs": [],
   "source": [
    "session.query(Student).delete()\n",
    "session.commit()"
   ]
  }
 ],
 "metadata": {
  "kernelspec": {
   "display_name": "base",
   "language": "python",
   "name": "python3"
  },
  "language_info": {
   "name": "python",
   "version": "3.10.9"
  },
  "orig_nbformat": 4
 },
 "nbformat": 4,
 "nbformat_minor": 2
}
